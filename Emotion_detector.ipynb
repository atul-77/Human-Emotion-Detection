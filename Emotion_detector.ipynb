{
 "cells": [
  {
   "cell_type": "code",
   "execution_count": 94,
   "metadata": {},
   "outputs": [],
   "source": [
    "import keras\n",
    "from keras.preprocessing.image import ImageDataGenerator\n",
    "import numpy as np\n",
    "import pandas as pd\n",
    "import tensorflow\n",
    "import matplotlib.pyplot as plt\n",
    "# import dlib\n",
    "# from dlib import get_landmarks()\n",
    "from keras.layers import Dense, Dropout, Activation, Flatten\n",
    "from keras.layers import Conv2D, MaxPooling2D, BatchNormalization,AveragePooling2D\n",
    "from keras.losses import categorical_crossentropy\n",
    "from keras.optimizers import Adam\n",
    "from keras.regularizers import l2\n",
    "from keras.utils import np_utils\n",
    "from sklearn.metrics import accuracy_score\n",
    "from sklearn.metrics import classification_report\n",
    "from sklearn.metrics import confusion_matrix\n",
    "import cv2"
   ]
  },
  {
   "cell_type": "code",
   "execution_count": 6,
   "metadata": {},
   "outputs": [],
   "source": [
    "df= pd.read_csv('fer2013.csv')"
   ]
  },
  {
   "cell_type": "code",
   "execution_count": 7,
   "metadata": {},
   "outputs": [
    {
     "name": "stdout",
     "output_type": "stream",
     "text": [
      "Training       28709\n",
      "PrivateTest     3589\n",
      "PublicTest      3589\n",
      "Name: Usage, dtype: int64\n",
      "3    8989\n",
      "6    6198\n",
      "4    6077\n",
      "2    5121\n",
      "0    4953\n",
      "5    4002\n",
      "1     547\n",
      "Name: emotion, dtype: int64\n"
     ]
    },
    {
     "data": {
      "text/plain": [
       "3    8989\n",
       "6    6198\n",
       "4    6077\n",
       "0    4953\n",
       "5    4002\n",
       "Name: emotion, dtype: int64"
      ]
     },
     "execution_count": 7,
     "metadata": {},
     "output_type": "execute_result"
    }
   ],
   "source": [
    "# df.info()\n",
    "df\n",
    "# np.unique(np.array(df.head()))\n",
    "print(df['Usage'].value_counts())\n",
    "print(df['emotion'].value_counts())\n",
    "# df1 = df[df.Usage!='PrivateTest']\n",
    "df2 = df[(df[\"emotion\"]!=1) & (df[\"emotion\"]!=2)]\n",
    "df2[\"emotion\"].value_counts()"
   ]
  },
  {
   "cell_type": "code",
   "execution_count": 101,
   "metadata": {},
   "outputs": [
    {
     "name": "stdout",
     "output_type": "stream",
     "text": [
      "3    879\n",
      "2    626\n",
      "4    594\n",
      "0    491\n",
      "1    416\n",
      "Name: emotion, dtype: int64 \n",
      "...\n",
      " 3    895\n",
      "4    653\n",
      "2    607\n",
      "0    467\n",
      "1    415\n",
      "Name: emotion, dtype: int64 \n",
      "...\n",
      " 3    7215\n",
      "2    4965\n",
      "4    4830\n",
      "0    3995\n",
      "1    3171\n",
      "Name: emotion, dtype: int64\n"
     ]
    },
    {
     "name": "stderr",
     "output_type": "stream",
     "text": [
      "C:\\ANACONDA3\\lib\\site-packages\\pandas\\core\\indexing.py:965: SettingWithCopyWarning: \n",
      "A value is trying to be set on a copy of a slice from a DataFrame.\n",
      "Try using .loc[row_indexer,col_indexer] = value instead\n",
      "\n",
      "See the caveats in the documentation: https://pandas.pydata.org/pandas-docs/stable/user_guide/indexing.html#returning-a-view-versus-a-copy\n",
      "  self.obj[item] = s\n"
     ]
    }
   ],
   "source": [
    "df2.loc[df2.emotion==5,\"emotion\"] = 1\n",
    "df2.loc[df2.emotion==6,\"emotion\"] = 2\n",
    "df2[\"emotion\"].value_counts()\n",
    "# df2\n",
    "# df2.drop(['Usage'],axis = 1)\n",
    "# help(df2.drop)\n",
    "traindf = df2[df2[\"Usage\"]=='Training'].drop(['Usage'],axis=1).reset_index()\n",
    "devdf = df2[df2[\"Usage\"]=='PublicTest'].drop(['Usage'],axis=1).reset_index()\n",
    "testdf = df2[df2[\"Usage\"]=='PrivateTest'].drop(['Usage'],axis=1).reset_index()\n",
    "print(testdf[\"emotion\"].value_counts(),\"\\n...\\n\",devdf[\"emotion\"].value_counts(),\"\\n...\\n\",traindf[\"emotion\"].value_counts())\n",
    "# traindf.head(20)\n",
    "# testdf\n",
    "# print(devdf.head(1))\n",
    "# print(testdf.head(1))"
   ]
  },
  {
   "cell_type": "code",
   "execution_count": 130,
   "metadata": {},
   "outputs": [],
   "source": [
    "expression = [\"angry\",\"surprise\",\"neutral\",\"happy\",\"sad\"]\n",
    "ferheight,ferwidth = 48,48\n",
    "def show_img(index,data):\n",
    "    \"\"\"Shows the image and the emotion label of the index's instance.\"\"\"\n",
    "    image = np.reshape(data.at[index, \"pixels\"].split(\" \"), \n",
    "                       (ferheight,ferwidth)).astype(\"float\")\n",
    "    image -= np.mean(image)\n",
    "    image /= np.std(image)\n",
    "    print(\"actual \\t\\t=\",data.loc[index,\"emotion\"],expression[data.loc[index,\"emotion\"]])\n",
    "    plt.imshow(image, cmap=\"gray\")\n",
    "    plt.show()"
   ]
  },
  {
   "cell_type": "code",
   "execution_count": 10,
   "metadata": {
    "scrolled": false
   },
   "outputs": [],
   "source": [
    "def Process(df,X,y):\n",
    "    for i,row in df.iterrows():\n",
    "#         if(i<=20):\n",
    "#             print(\"nn\\n\",row['pixels'])\n",
    "        X.append(np.array(row['pixels'].split(\" \")))\n",
    "        y.append(row['emotion'])\n",
    "    X,y = np.array(X,'float32'), np.array(y,'float32')\n",
    "#     print(X[0])\n",
    "    X -= np.mean(X, axis=0)\n",
    "    X /= np.std(X, axis=0)\n",
    "#     print(X[0])"
   ]
  },
  {
   "cell_type": "code",
   "execution_count": 11,
   "metadata": {
    "scrolled": false
   },
   "outputs": [
    {
     "name": "stdout",
     "output_type": "stream",
     "text": [
      "(24176, 2304) (24176,)\n"
     ]
    }
   ],
   "source": [
    "X_train,y_train = [],[]\n",
    "Process(traindf,X_train,y_train)\n",
    "X_train = np.array(X_train)\n",
    "y_train = np.array(y_train)\n",
    "print(X_train.shape,y_train.shape)"
   ]
  },
  {
   "cell_type": "code",
   "execution_count": 12,
   "metadata": {},
   "outputs": [
    {
     "name": "stdout",
     "output_type": "stream",
     "text": [
      "(3037, 2304) (3037,)\n"
     ]
    }
   ],
   "source": [
    "X_dev,y_dev = [],[]\n",
    "Process(devdf,X_dev,y_dev)\n",
    "X_dev = np.array(X_dev)\n",
    "y_dev = np.array(y_dev)\n",
    "print(X_dev.shape,y_dev.shape)"
   ]
  },
  {
   "cell_type": "code",
   "execution_count": 13,
   "metadata": {},
   "outputs": [
    {
     "name": "stdout",
     "output_type": "stream",
     "text": [
      "(3006, 2304) (3006,)\n"
     ]
    }
   ],
   "source": [
    "X_test,y_test = [],[]\n",
    "Process(testdf,X_test,y_test)\n",
    "X_test = np.array(X_test)\n",
    "y_test = np.array(y_test)\n",
    "print(X_test.shape,y_test.shape)"
   ]
  },
  {
   "cell_type": "code",
   "execution_count": 14,
   "metadata": {},
   "outputs": [
    {
     "name": "stdout",
     "output_type": "stream",
     "text": [
      "(24176, 5) (3037, 5) (3006, 5)\n"
     ]
    }
   ],
   "source": [
    "y_train1=np_utils.to_categorical(y_train, num_classes=5)\n",
    "y_dev1=np_utils.to_categorical(y_dev, num_classes=5)\n",
    "y_test1=np_utils.to_categorical(y_test, num_classes=5)\n",
    "print(y_train1.shape,y_dev1.shape,y_test1.shape)"
   ]
  },
  {
   "cell_type": "code",
   "execution_count": 15,
   "metadata": {},
   "outputs": [],
   "source": [
    "X_train,X_test,X_dev = X_train.reshape(X_train.shape[0],ferheight,ferwidth,1),X_test.reshape(X_test.shape[0],ferheight,ferwidth,1),X_dev.reshape(X_dev.shape[0],ferheight,ferwidth,1)"
   ]
  },
  {
   "cell_type": "code",
   "execution_count": 16,
   "metadata": {},
   "outputs": [
    {
     "name": "stdout",
     "output_type": "stream",
     "text": [
      "(24176, 48, 48, 1) (24176,)\n",
      "(3037, 48, 48, 1) (3037,)\n",
      "(3006, 48, 48, 1) (3006,)\n"
     ]
    }
   ],
   "source": [
    "print(X_train.shape,y_train.shape)\n",
    "print(X_dev.shape,y_dev.shape)\n",
    "print(X_test.shape,y_test.shape)"
   ]
  },
  {
   "cell_type": "code",
   "execution_count": 17,
   "metadata": {},
   "outputs": [],
   "source": [
    "nfeatures = 64\n",
    "nlabels = 5\n",
    "batch_size = 32\n",
    "epochs = 30"
   ]
  },
  {
   "cell_type": "code",
   "execution_count": 18,
   "metadata": {},
   "outputs": [],
   "source": [
    "model = keras.models.Sequential()\n",
    "\n",
    "model.add(Conv2D(nfeatures,kernel_size = (3,3),activation = 'elu', input_shape = (ferheight,ferwidth,1) ))\n",
    "model.add(Conv2D(nfeatures,kernel_size = (3,3),activation = 'relu'))\n",
    "model.add(MaxPooling2D(pool_size=(2,2), strides=(2, 2)))\n",
    "model.add(Dropout(0.5))\n",
    "\n",
    "\n",
    "model.add(Conv2D(2*nfeatures,kernel_size = (3,3),activation = 'relu'))\n",
    "model.add(Conv2D(2*nfeatures,kernel_size = (3,3),activation = 'relu'))\n",
    "model.add(MaxPooling2D(pool_size=(2,2), strides=(2, 2)))\n",
    "model.add(Dropout(0.5))\n",
    "\n",
    "\n",
    "model.add(Conv2D(4*nfeatures,kernel_size = (3,3),activation = 'relu'))\n",
    "model.add(Conv2D(4*nfeatures,kernel_size = (3,3),activation = 'relu'))\n",
    "model.add(MaxPooling2D(pool_size=(2,2), strides=(2, 2)))\n",
    "model.add(Flatten())\n",
    "\n",
    "\n",
    "model.add(Dense(1024, activation='relu'))\n",
    "model.add(Dropout(0.5))\n",
    "model.add(Dense(nlabels, activation='softmax'))"
   ]
  },
  {
   "cell_type": "code",
   "execution_count": null,
   "metadata": {},
   "outputs": [],
   "source": []
  },
  {
   "cell_type": "code",
   "execution_count": 24,
   "metadata": {
    "scrolled": false
   },
   "outputs": [
    {
     "name": "stdout",
     "output_type": "stream",
     "text": [
      "Train on 24176 samples, validate on 3037 samples\n",
      "Epoch 1/30\n",
      "24176/24176 [==============================] - 435s 18ms/step - loss: 1.7169 - accuracy: 0.3160 - val_loss: 1.4389 - val_accuracy: 0.3823\n",
      "Epoch 2/30\n",
      "24176/24176 [==============================] - 377s 16ms/step - loss: 1.4197 - accuracy: 0.3815 - val_loss: 1.3676 - val_accuracy: 0.4215\n",
      "Epoch 3/30\n",
      "24176/24176 [==============================] - 370s 15ms/step - loss: 1.3477 - accuracy: 0.4284 - val_loss: 1.3214 - val_accuracy: 0.4699\n",
      "Epoch 4/30\n",
      "24176/24176 [==============================] - 372s 15ms/step - loss: 1.3004 - accuracy: 0.4568 - val_loss: 1.3079 - val_accuracy: 0.4524\n",
      "Epoch 5/30\n",
      "24176/24176 [==============================] - 376s 16ms/step - loss: 1.2693 - accuracy: 0.4671 - val_loss: 1.2456 - val_accuracy: 0.4979\n",
      "Epoch 6/30\n",
      "24176/24176 [==============================] - 1016s 42ms/step - loss: 1.2344 - accuracy: 0.4920 - val_loss: 1.2338 - val_accuracy: 0.4936\n",
      "Epoch 7/30\n",
      "24176/24176 [==============================] - 383s 16ms/step - loss: 1.2226 - accuracy: 0.4995 - val_loss: 1.2110 - val_accuracy: 0.5044\n",
      "Epoch 8/30\n",
      "24176/24176 [==============================] - 367s 15ms/step - loss: 1.2006 - accuracy: 0.5070 - val_loss: 1.4298 - val_accuracy: 0.4040\n",
      "Epoch 9/30\n",
      "24176/24176 [==============================] - 369s 15ms/step - loss: 1.1933 - accuracy: 0.5137 - val_loss: 1.1491 - val_accuracy: 0.5354\n",
      "Epoch 10/30\n",
      "24176/24176 [==============================] - 368s 15ms/step - loss: 1.1861 - accuracy: 0.5184 - val_loss: 1.1352 - val_accuracy: 0.5410\n",
      "Epoch 11/30\n",
      "24176/24176 [==============================] - 1470s 61ms/step - loss: 1.1680 - accuracy: 0.5275 - val_loss: 1.1787 - val_accuracy: 0.5275\n",
      "Epoch 12/30\n",
      "24176/24176 [==============================] - 386s 16ms/step - loss: 1.1681 - accuracy: 0.5257 - val_loss: 1.1839 - val_accuracy: 0.5298\n",
      "Epoch 13/30\n",
      "24176/24176 [==============================] - 369s 15ms/step - loss: 1.1465 - accuracy: 0.5377 - val_loss: 1.0858 - val_accuracy: 0.5558\n",
      "Epoch 14/30\n",
      "24176/24176 [==============================] - 369s 15ms/step - loss: 1.1388 - accuracy: 0.5416 - val_loss: 1.1032 - val_accuracy: 0.5528\n",
      "Epoch 15/30\n",
      "24176/24176 [==============================] - 369s 15ms/step - loss: 1.1355 - accuracy: 0.5410 - val_loss: 1.1561 - val_accuracy: 0.5206\n",
      "Epoch 16/30\n",
      "24176/24176 [==============================] - 17211s 712ms/step - loss: 1.1491 - accuracy: 0.5357 - val_loss: 1.1268 - val_accuracy: 0.5446\n",
      "Epoch 17/30\n",
      "24176/24176 [==============================] - 382s 16ms/step - loss: 1.1365 - accuracy: 0.5404 - val_loss: 1.1154 - val_accuracy: 0.5614\n",
      "Epoch 18/30\n",
      "24176/24176 [==============================] - 386s 16ms/step - loss: 1.1226 - accuracy: 0.5508 - val_loss: 1.0937 - val_accuracy: 0.5552\n",
      "Epoch 19/30\n",
      "24176/24176 [==============================] - 386s 16ms/step - loss: 1.1347 - accuracy: 0.5397 - val_loss: 1.1130 - val_accuracy: 0.5509\n",
      "Epoch 20/30\n",
      "24176/24176 [==============================] - 387s 16ms/step - loss: 1.1269 - accuracy: 0.5500 - val_loss: 1.1006 - val_accuracy: 0.5519\n",
      "Epoch 21/30\n",
      "24176/24176 [==============================] - 387s 16ms/step - loss: 1.1197 - accuracy: 0.5516 - val_loss: 1.0834 - val_accuracy: 0.5575\n",
      "Epoch 22/30\n",
      "24176/24176 [==============================] - 385s 16ms/step - loss: 1.1185 - accuracy: 0.5522 - val_loss: 1.0719 - val_accuracy: 0.5752\n",
      "Epoch 23/30\n",
      "24176/24176 [==============================] - 386s 16ms/step - loss: 1.1151 - accuracy: 0.5509 - val_loss: 1.0756 - val_accuracy: 0.5733\n",
      "Epoch 24/30\n",
      "24176/24176 [==============================] - 386s 16ms/step - loss: 1.1094 - accuracy: 0.5525 - val_loss: 1.1044 - val_accuracy: 0.5469\n",
      "Epoch 25/30\n",
      "24176/24176 [==============================] - 389s 16ms/step - loss: 1.1170 - accuracy: 0.5508 - val_loss: 1.0302 - val_accuracy: 0.5756\n",
      "Epoch 26/30\n",
      "24176/24176 [==============================] - 386s 16ms/step - loss: 1.1092 - accuracy: 0.5545 - val_loss: 1.1055 - val_accuracy: 0.5571\n",
      "Epoch 27/30\n",
      "24176/24176 [==============================] - 388s 16ms/step - loss: 1.1141 - accuracy: 0.5569 - val_loss: 1.0728 - val_accuracy: 0.5710\n",
      "Epoch 28/30\n",
      "24176/24176 [==============================] - 390s 16ms/step - loss: 1.1021 - accuracy: 0.5601 - val_loss: 1.0680 - val_accuracy: 0.5693\n",
      "Epoch 29/30\n",
      "24176/24176 [==============================] - 390s 16ms/step - loss: 1.1093 - accuracy: 0.5575 - val_loss: 1.0925 - val_accuracy: 0.5627\n",
      "Epoch 30/30\n",
      "24176/24176 [==============================] - 394s 16ms/step - loss: 1.1069 - accuracy: 0.5563 - val_loss: 1.1646 - val_accuracy: 0.5206\n"
     ]
    }
   ],
   "source": [
    "model.compile(loss = 'categorical_crossentropy', optimizer=Adam(),metrics=['accuracy'])\n",
    "\n",
    "model_info = model.fit(X_train,y_train1, batch_size=batch_size, epochs=epochs, verbose=1, validation_data=(X_dev, y_dev1), shuffle=True)\n",
    "model.save_weights('model.h5')"
   ]
  },
  {
   "cell_type": "code",
   "execution_count": 25,
   "metadata": {},
   "outputs": [],
   "source": [
    "# plot_model_history(model_info)\n"
   ]
  },
  {
   "cell_type": "code",
   "execution_count": null,
   "metadata": {},
   "outputs": [],
   "source": []
  },
  {
   "cell_type": "code",
   "execution_count": 21,
   "metadata": {},
   "outputs": [],
   "source": [
    "model.load_weights('model.h5')"
   ]
  },
  {
   "cell_type": "code",
   "execution_count": 103,
   "metadata": {},
   "outputs": [],
   "source": [
    "cap = cv2.VideoCapture(0)\n",
    "while(True):\n",
    "    ret,frame = cap.read()\n",
    "#     if not ret:\n",
    "#         break\n",
    "    face_cascade = cv2.CascadeClassifier('haarcascade_frontalface_default.xml')\n",
    "    gray = cv2.cvtColor(frame, cv2.COLOR_BGR2GRAY)\n",
    "    faces = face_cascade.detectMultiScale(gray,scaleFactor=1.1, minNeighbors=5)\n",
    "\n",
    "    for (x, y, w, h) in faces:\n",
    "        cv2.rectangle(frame, (x, y-25), (x+w, y+h+10), (0, 255, 0), 2)\n",
    "        roi_gray = gray[y:y + h, x:x + w]\n",
    "        cropped_img = np.expand_dims(np.expand_dims(cv2.resize(roi_gray, (48, 48)), -1), 0)\n",
    "        prediction = model.predict(cropped_img)\n",
    "        maxindex = int(np.argmax(prediction))\n",
    "        cv2.putText(frame, expression[maxindex], (x+20, y-60), cv2.FONT_HERSHEY_SIMPLEX, 1, (0, 0, 255), 2, cv2.LINE_AA)\n",
    "\n",
    "    cv2.imshow('Video', cv2.resize(frame,(1600,960),interpolation = cv2.INTER_CUBIC))\n",
    "    if cv2.waitKey(1) & 0xFF == ord('q'):\n",
    "        break\n",
    "\n",
    "cap.release()\n",
    "cv2.destroyAllWindows()"
   ]
  },
  {
   "cell_type": "code",
   "execution_count": 48,
   "metadata": {},
   "outputs": [],
   "source": []
  },
  {
   "cell_type": "code",
   "execution_count": 99,
   "metadata": {
    "scrolled": false
   },
   "outputs": [
    {
     "name": "stdout",
     "output_type": "stream",
     "text": [
      "accuracy on unseen test data is :  0.5319361277445109\n",
      "Classification report :                precision    recall  f1-score   support\n",
      "\n",
      "           0       0.54      0.28      0.37       491\n",
      "           1       0.94      0.41      0.57       416\n",
      "           2       0.39      0.64      0.48       626\n",
      "           3       0.68      0.75      0.71       879\n",
      "           4       0.41      0.40      0.40       594\n",
      "\n",
      "    accuracy                           0.53      3006\n",
      "   macro avg       0.59      0.49      0.51      3006\n",
      "weighted avg       0.58      0.53      0.53      3006\n",
      "\n",
      "confusion matrix : \n",
      " [[137   4 159  87 104]\n",
      " [ 22 169 122  63  40]\n",
      " [ 32   1 398  80 115]\n",
      " [ 19   4 111 658  87]\n",
      " [ 43   1 233  80 237]]\n"
     ]
    }
   ],
   "source": [
    "y_pred = model.predict(X_test)\n",
    "test_prediction = []\n",
    "for i in y_pred:\n",
    "    pos = np.where(i == np.amax(i))\n",
    "    test_prediction.append(pos[0][0])\n",
    "    i = [1 if j==pos[0] else 0 for j in range(len(i))]\n",
    "test_prediction = np.array(test_prediction)\n",
    "\n",
    "print(\"accuracy on unseen test data is : \",accuracy_score(y_test,test_prediction))\n",
    "print(\"Classification report : \",classification_report(y_test,test_prediction))\n",
    "print(\"confusion matrix : \\n\",confusion_matrix(y_test,test_prediction))"
   ]
  },
  {
   "cell_type": "code",
   "execution_count": 142,
   "metadata": {
    "scrolled": false
   },
   "outputs": [
    {
     "name": "stdout",
     "output_type": "stream",
     "text": [
      "index = 595\n",
      "[0.11936586 0.02618299 0.45102915 0.25025228 0.15316972]\n",
      "predicted\t= 2 neutral\n",
      "actual \t\t= 2 neutral\n"
     ]
    },
    {
     "data": {
      "image/png": "[encoded data removed]",
      "text/plain": [
       "<Figure size 432x288 with 1 Axes>"
      ]
     },
     "metadata": {
      "needs_background": "light"
     },
     "output_type": "display_data"
    },
    {
     "name": "stdout",
     "output_type": "stream",
     "text": [
      "index = 742\n",
      "[0.01935263 0.00819643 0.25498563 0.68005913 0.03740623]\n",
      "predicted\t= 3 happy\n",
      "actual \t\t= 3 happy\n"
     ]
    },
    {
     "data": {
      "image/png": "[encoded data removed]",
      "text/plain": [
       "<Figure size 432x288 with 1 Axes>"
      ]
     },
     "metadata": {
      "needs_background": "light"
     },
     "output_type": "display_data"
    },
    {
     "name": "stdout",
     "output_type": "stream",
     "text": [
      "index = 1064\n",
      "[0.38239223 0.01636454 0.05461269 0.23343912 0.31319144]\n",
      "predicted\t= 0 angry\n",
      "actual \t\t= 3 happy\n"
     ]
    },
    {
     "data": {
      "image/png": "[encoded data removed]",
      "text/plain": [
       "<Figure size 432x288 with 1 Axes>"
      ]
     },
     "metadata": {
      "needs_background": "light"
     },
     "output_type": "display_data"
    },
    {
     "name": "stdout",
     "output_type": "stream",
     "text": [
      "index = 1993\n",
      "[0.08959824 0.00340111 0.16818652 0.6705041  0.06831001]\n",
      "predicted\t= 3 happy\n",
      "actual \t\t= 0 angry\n"
     ]
    },
    {
     "data": {
      "image/png": "[encoded data removed]",
      "text/plain": [
       "<Figure size 432x288 with 1 Axes>"
      ]
     },
     "metadata": {
      "needs_background": "light"
     },
     "output_type": "display_data"
    },
    {
     "name": "stdout",
     "output_type": "stream",
     "text": [
      "index = 2998\n",
      "[0.03008704 0.00543815 0.08585458 0.86674434 0.01187599]\n",
      "predicted\t= 3 happy\n",
      "actual \t\t= 2 neutral\n"
     ]
    },
    {
     "data": {
      "image/png": "[encoded data removed]",
      "text/plain": [
       "<Figure size 432x288 with 1 Axes>"
      ]
     },
     "metadata": {
      "needs_background": "light"
     },
     "output_type": "display_data"
    }
   ],
   "source": [
    "np.random.seed(23)\n",
    "for i in range(5):\n",
    "    index = np.random.randint(0,len(X_test))\n",
    "    print(\"index =\",index)\n",
    "    pred = model.predict(X_test[index].reshape(1,ferheight,ferwidth,1))\n",
    "    pred = np.squeeze(pred)\n",
    "    print(pred)\n",
    "    pos = np.where(pred == np.amax(pred))\n",
    "    print('predicted\\t=',pos[0][0],expression[pos[0][0]])\n",
    "    show_img(index,testdf)\n",
    "pred = model.predict(X_test[1].reshape(1,ferheight,ferwidth,1))\n",
    "# show_img(0,devdf)"
   ]
  },
  {
   "cell_type": "code",
   "execution_count": 138,
   "metadata": {},
   "outputs": [
    {
     "name": "stdout",
     "output_type": "stream",
     "text": [
      "Model: \"sequential_1\"\n",
      "_________________________________________________________________\n",
      "Layer (type)                 Output Shape              Param #   \n",
      "=================================================================\n",
      "conv2d_1 (Conv2D)            (None, 46, 46, 64)        640       \n",
      "_________________________________________________________________\n",
      "conv2d_2 (Conv2D)            (None, 44, 44, 64)        36928     \n",
      "_________________________________________________________________\n",
      "max_pooling2d_1 (MaxPooling2 (None, 22, 22, 64)        0         \n",
      "_________________________________________________________________\n",
      "dropout_1 (Dropout)          (None, 22, 22, 64)        0         \n",
      "_________________________________________________________________\n",
      "conv2d_3 (Conv2D)            (None, 20, 20, 128)       73856     \n",
      "_________________________________________________________________\n",
      "conv2d_4 (Conv2D)            (None, 18, 18, 128)       147584    \n",
      "_________________________________________________________________\n",
      "max_pooling2d_2 (MaxPooling2 (None, 9, 9, 128)         0         \n",
      "_________________________________________________________________\n",
      "dropout_2 (Dropout)          (None, 9, 9, 128)         0         \n",
      "_________________________________________________________________\n",
      "conv2d_5 (Conv2D)            (None, 7, 7, 256)         295168    \n",
      "_________________________________________________________________\n",
      "conv2d_6 (Conv2D)            (None, 5, 5, 256)         590080    \n",
      "_________________________________________________________________\n",
      "max_pooling2d_3 (MaxPooling2 (None, 2, 2, 256)         0         \n",
      "_________________________________________________________________\n",
      "flatten_1 (Flatten)          (None, 1024)              0         \n",
      "_________________________________________________________________\n",
      "dense_1 (Dense)              (None, 1024)              1049600   \n",
      "_________________________________________________________________\n",
      "dropout_3 (Dropout)          (None, 1024)              0         \n",
      "_________________________________________________________________\n",
      "dense_2 (Dense)              (None, 5)                 5125      \n",
      "=================================================================\n",
      "Total params: 2,198,981\n",
      "Trainable params: 2,198,981\n",
      "Non-trainable params: 0\n",
      "_________________________________________________________________\n"
     ]
    }
   ],
   "source": [
    "model.summary()"
   ]
  }
 ],
 "metadata": {
  "kernelspec": {
   "display_name": "Python 3",
   "language": "python",
   "name": "python3"
  },
  "language_info": {
   "codemirror_mode": {
    "name": "ipython",
    "version": 3
   },
   "file_extension": ".py",
   "mimetype": "text/x-python",
   "name": "python",
   "nbconvert_exporter": "python",
   "pygments_lexer": "ipython3",
   "version": "3.7.6"
  }
 },
 "nbformat": 4,
 "nbformat_minor": 4
}
